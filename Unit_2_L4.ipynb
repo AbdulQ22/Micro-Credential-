{
  "nbformat": 4,
  "nbformat_minor": 0,
  "metadata": {
    "colab": {
      "name": "Unit 2 L4",
      "provenance": [],
      "authorship_tag": "ABX9TyOOBfK4v8pjWRd/hR4Ozgki",
      "include_colab_link": true
    },
    "kernelspec": {
      "name": "python3",
      "display_name": "Python 3"
    },
    "language_info": {
      "name": "python"
    }
  },
  "cells": [
    {
      "cell_type": "markdown",
      "metadata": {
        "id": "view-in-github",
        "colab_type": "text"
      },
      "source": [
        "<a href=\"https://colab.research.google.com/github/AbdulQ22/Micro-Credential-/blob/main/Unit_2_L4.ipynb\" target=\"_parent\"><img src=\"https://colab.research.google.com/assets/colab-badge.svg\" alt=\"Open In Colab\"/></a>"
      ]
    },
    {
      "cell_type": "code",
      "execution_count": null,
      "metadata": {
        "colab": {
          "base_uri": "https://localhost:8080/"
        },
        "id": "I-Fxody5s36A",
        "outputId": "ebe18417-1ffb-4959-ec1e-6d79f0d96f34"
      },
      "outputs": [
        {
          "output_type": "stream",
          "name": "stdout",
          "text": [
            "FIFA\n",
            "COD\n",
            "Fortnite\n",
            "GTA\n",
            "Cricket 19\n"
          ]
        }
      ],
      "source": [
        "#Question 1\n",
        "videogames= ['FIFA','COD','Fortnite','GTA','Cricket 19']\n",
        "print(videogames)\n",
        "#Question 2\n",
        "for games in videogames:\n",
        "    print(games)"
      ]
    },
    {
      "cell_type": "code",
      "source": [
        "#Question 3\n",
        "videogames= ['FIFA','COD','Fortnite','GTA','Cricket 19']\n",
        "for games in videogames:\n",
        "  print(games.title()+ \", is one of my favorite video games ever.\")"
      ],
      "metadata": {
        "colab": {
          "base_uri": "https://localhost:8080/"
        },
        "id": "oREFRqsOzQSL",
        "outputId": "8ebdc0b2-c418-4625-8273-1993ec07352b"
      },
      "execution_count": null,
      "outputs": [
        {
          "output_type": "stream",
          "name": "stdout",
          "text": [
            "Fifa, is one of my favorite video games ever.\n",
            "Cod, is one of my favorite video games ever.\n",
            "Fortnite, is one of my favorite video games ever.\n",
            "Gta, is one of my favorite video games ever.\n",
            "Cricket 19, is one of my favorite video games ever.\n"
          ]
        }
      ]
    },
    {
      "cell_type": "code",
      "source": [
        "#Question 4\n",
        "numbers =list(range(0,20,2))\n",
        "print(numbers)"
      ],
      "metadata": {
        "colab": {
          "base_uri": "https://localhost:8080/"
        },
        "id": "npQpcljUf-Ry",
        "outputId": "f6ff34bf-c30f-4740-e003-a88fce4e648a"
      },
      "execution_count": 3,
      "outputs": [
        {
          "output_type": "stream",
          "name": "stdout",
          "text": [
            "[0, 2, 4, 6, 8, 10, 12, 14, 16, 18]\n"
          ]
        }
      ]
    },
    {
      "cell_type": "code",
      "source": [
        "#Question 5\n",
        "videogames= ['FIFA','COD','Fortnite','GTA','Cricket 19']\n",
        "videogames.sort()\n",
        "print(videogames)"
      ],
      "metadata": {
        "colab": {
          "base_uri": "https://localhost:8080/"
        },
        "id": "4Pw64SX0gt2Q",
        "outputId": "fe224b2f-c671-4276-95dd-b8c7e0ae99da"
      },
      "execution_count": 6,
      "outputs": [
        {
          "output_type": "stream",
          "name": "stdout",
          "text": [
            "['COD', 'Cricket 19', 'FIFA', 'Fortnite', 'GTA']\n"
          ]
        }
      ]
    },
    {
      "cell_type": "code",
      "source": [
        "#Question 6\n",
        "videogames= ['FIFA','COD','Fortnite','GTA','Cricket 19']\n",
        "print(videogames[0:3])"
      ],
      "metadata": {
        "colab": {
          "base_uri": "https://localhost:8080/"
        },
        "id": "0s1KY0tVhjou",
        "outputId": "a0af52f6-c306-4f3f-cdd1-a5001fb96115"
      },
      "execution_count": 11,
      "outputs": [
        {
          "output_type": "stream",
          "name": "stdout",
          "text": [
            "['FIFA', 'COD', 'Fortnite']\n"
          ]
        }
      ]
    },
    {
      "cell_type": "code",
      "source": [
        "#Question 7\n",
        "videogames= ['FIFA','COD','Fortnite','GTA','Cricket 19']\n",
        "print(videogames[-2:])"
      ],
      "metadata": {
        "colab": {
          "base_uri": "https://localhost:8080/"
        },
        "id": "A1xRAZRpiGQ-",
        "outputId": "067cba47-81c1-4ebc-e067-74b70fb7c07a"
      },
      "execution_count": 14,
      "outputs": [
        {
          "output_type": "stream",
          "name": "stdout",
          "text": [
            "['GTA', 'Cricket 19']\n"
          ]
        }
      ]
    }
  ]
}