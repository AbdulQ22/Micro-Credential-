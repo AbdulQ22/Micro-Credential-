{
  "nbformat": 4,
  "nbformat_minor": 0,
  "metadata": {
    "colab": {
      "name": "Unit2 L3",
      "provenance": [],
      "collapsed_sections": [],
      "authorship_tag": "ABX9TyO2l2hf33KqDOBaNVfZ2qF3",
      "include_colab_link": true
    },
    "kernelspec": {
      "name": "python3",
      "display_name": "Python 3"
    },
    "language_info": {
      "name": "python"
    }
  },
  "cells": [
    {
      "cell_type": "markdown",
      "metadata": {
        "id": "view-in-github",
        "colab_type": "text"
      },
      "source": [
        "<a href=\"https://colab.research.google.com/github/AbdulQ22/Micro-Credential-/blob/main/Unit2_L3.ipynb\" target=\"_parent\"><img src=\"https://colab.research.google.com/assets/colab-badge.svg\" alt=\"Open In Colab\"/></a>"
      ]
    },
    {
      "cell_type": "code",
      "execution_count": 5,
      "metadata": {
        "colab": {
          "base_uri": "https://localhost:8080/"
        },
        "id": "tvGCA6UIiGGO",
        "outputId": "5a72a547-9cb7-4a80-90ba-0e798e15d3ac"
      },
      "outputs": [
        {
          "output_type": "stream",
          "name": "stdout",
          "text": [
            "['Stranger Things', 'Game of Throne', 'Cobra Kai', 'Suits', 'Billions']\n",
            "['Billions', 'Cobra Kai', 'Game of Throne', 'Stranger Things', 'Suits']\n",
            "['Stranger Things', 'Game of Throne', 'Cobra Kai', 'Suits', 'Billions']\n",
            "['Suits', 'Stranger Things', 'Game of Throne', 'Cobra Kai', 'Billions']\n",
            "('I have', 5, 'favorite shows')\n"
          ]
        }
      ],
      "source": [
        "#Question 1\n",
        "fav_shows= ['Stranger Things', 'Game of Throne', 'Cobra Kai', 'Suits','Billions']\n",
        "#Question 2\n",
        "print(fav_shows)\n",
        "#Question 3\n",
        "print(sorted(fav_shows))\n",
        "#Question 4\n",
        "print(fav_shows)\n",
        "#Question 5\n",
        "fav_shows.sort(reverse=True)\n",
        "print(fav_shows)\n",
        "#Question 6\n",
        "message= ('I have',len(fav_shows), 'favorite shows')\n",
        "print(message)"
      ]
    }
  ]
}