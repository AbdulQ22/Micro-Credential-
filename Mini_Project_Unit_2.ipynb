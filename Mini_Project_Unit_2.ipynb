{
  "nbformat": 4,
  "nbformat_minor": 0,
  "metadata": {
    "colab": {
      "name": "Mini Project Unit 2.ipynb",
      "provenance": [],
      "authorship_tag": "ABX9TyOhC/6+jrv0nn/aqPFJolTf",
      "include_colab_link": true
    },
    "kernelspec": {
      "name": "python3",
      "display_name": "Python 3"
    },
    "language_info": {
      "name": "python"
    }
  },
  "cells": [
    {
      "cell_type": "markdown",
      "metadata": {
        "id": "view-in-github",
        "colab_type": "text"
      },
      "source": [
        "<a href=\"https://colab.research.google.com/github/AbdulQ22/Micro-Credential-/blob/main/Mini_Project_Unit_2.ipynb\" target=\"_parent\"><img src=\"https://colab.research.google.com/assets/colab-badge.svg\" alt=\"Open In Colab\"/></a>"
      ]
    },
    {
      "cell_type": "code",
      "execution_count": 1,
      "metadata": {
        "id": "PiQ_pyy0oDG5",
        "colab": {
          "base_uri": "https://localhost:8080/"
        },
        "outputId": "78fa8ff2-1e7e-4c6d-e73a-fcacdc8ca797"
      },
      "outputs": [
        {
          "output_type": "stream",
          "name": "stdout",
          "text": [
            "Please enter a number: 43\n",
            "You entered a odd number\n"
          ]
        }
      ],
      "source": [
        "#Part 1\n",
        "number= int(input(\"Please enter a number: \" ))\n",
        "answer = number % 2\n",
        "if answer >0:\n",
        "   print(\"You entered a odd number\")\n",
        "else:\n",
        "  print(\"You entered a even number\")"
      ]
    },
    {
      "cell_type": "code",
      "source": [
        "number= int(input(\"Please enter a number: \" ))\n",
        "if number % 6 == 0:\n",
        "  print(\"You entered a number multiple of 6\")\n",
        "elif number % 2 == 0:\n",
        "  print (\"You entered a even number\")\n",
        "else:\n",
        "  print(\"You entered a odd number\")"
      ],
      "metadata": {
        "colab": {
          "base_uri": "https://localhost:8080/"
        },
        "id": "Pupd1D72qQsO",
        "outputId": "60dff89a-72e5-4e77-c91c-053ba4a2808a"
      },
      "execution_count": 9,
      "outputs": [
        {
          "output_type": "stream",
          "name": "stdout",
          "text": [
            "Please enter a number: 6\n",
            "You entered a number multiple of 6\n"
          ]
        }
      ]
    },
    {
      "cell_type": "code",
      "source": [
        "# Bonus part 2\n",
        "num = int(input(\"Please enter a number to check: \" ))\n",
        "check = int(input(\"Please enter a number to divide by:\"))\n",
        "if num % check ==0:\n",
        "  print(num, \"divides evenly by\", check)\n",
        "else:\n",
        "  print(num, \"doesn't divide evenly by\", check)\n"
      ],
      "metadata": {
        "colab": {
          "base_uri": "https://localhost:8080/"
        },
        "id": "9NYRxdz4q3pS",
        "outputId": "8f75e4c3-f271-4d48-cf77-69d2f44729ca"
      },
      "execution_count": 11,
      "outputs": [
        {
          "output_type": "stream",
          "name": "stdout",
          "text": [
            "Please enter a number to check: 2\n",
            "Please enter a number to divide by:2\n",
            "2 divides evenly by 2\n"
          ]
        }
      ]
    }
  ]
}