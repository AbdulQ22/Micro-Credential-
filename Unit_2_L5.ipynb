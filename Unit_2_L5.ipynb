{
  "nbformat": 4,
  "nbformat_minor": 0,
  "metadata": {
    "colab": {
      "name": "Unit 2 L5",
      "provenance": [],
      "collapsed_sections": [],
      "authorship_tag": "ABX9TyPfLEYb97LGnGcp1d7lbVkT",
      "include_colab_link": true
    },
    "kernelspec": {
      "name": "python3",
      "display_name": "Python 3"
    },
    "language_info": {
      "name": "python"
    }
  },
  "cells": [
    {
      "cell_type": "markdown",
      "metadata": {
        "id": "view-in-github",
        "colab_type": "text"
      },
      "source": [
        "<a href=\"https://colab.research.google.com/github/AbdulQ22/Micro-Credential-/blob/main/Unit_2_L5.ipynb\" target=\"_parent\"><img src=\"https://colab.research.google.com/assets/colab-badge.svg\" alt=\"Open In Colab\"/></a>"
      ]
    },
    {
      "cell_type": "code",
      "execution_count": 4,
      "metadata": {
        "colab": {
          "base_uri": "https://localhost:8080/"
        },
        "id": "hmu7pnf4jDmu",
        "outputId": "f321a8f9-85e2-459b-f988-820946593985"
      },
      "outputs": [
        {
          "output_type": "stream",
          "name": "stdout",
          "text": [
            "Welcome Back Admin!\n",
            "Welcome Back everyone\n",
            "Welcome Back everyone\n",
            "Welcome Back everyone\n",
            "Welcome Back everyone\n"
          ]
        }
      ],
      "source": [
        "#Question 1 (a&b)\n",
        "usernames= ['abd_022','king123','dingdon1456','papi12','chap_9']\n",
        "for admin in usernames:\n",
        "    if admin == 'abd_022':\n",
        "      print(\"Welcome Back Admin!\")\n",
        "    else:\n",
        "      print(\"Welcome Back everyone\")"
      ]
    },
    {
      "cell_type": "code",
      "source": [
        "#Question 2 (a&b)\n",
        "numbers = list(range(1,10))\n",
        "for num in numbers:\n",
        "  if num == 1:\n",
        "    print(\"1st\")\n",
        "  elif num == 2:\n",
        "    print(\"2nd\")\n",
        "  elif num == 3:\n",
        "    print(\"3rd\")\n",
        "  else:\n",
        "    print(str(num)+\"th\")\n",
        "\n",
        "\n"
      ],
      "metadata": {
        "colab": {
          "base_uri": "https://localhost:8080/"
        },
        "id": "oxJFohsdlXaG",
        "outputId": "245055b9-6674-4737-ad74-c91ee4f35799"
      },
      "execution_count": 8,
      "outputs": [
        {
          "output_type": "stream",
          "name": "stdout",
          "text": [
            "1st\n",
            "2nd\n",
            "3rd\n",
            "4th\n",
            "5th\n",
            "6th\n",
            "7th\n",
            "8th\n",
            "9th\n"
          ]
        }
      ]
    },
    {
      "cell_type": "code",
      "source": [
        ""
      ],
      "metadata": {
        "id": "nyqWiqtdmdz2"
      },
      "execution_count": null,
      "outputs": []
    }
  ]
}